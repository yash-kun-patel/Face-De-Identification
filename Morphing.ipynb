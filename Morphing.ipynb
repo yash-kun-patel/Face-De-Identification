{
 "cells": [
  {
   "cell_type": "markdown",
   "metadata": {},
   "source": [
    "# Morhing Two Images"
   ]
  },
  {
   "cell_type": "code",
   "execution_count": 6,
   "metadata": {
    "ExecuteTime": {
     "end_time": "2018-11-06T13:51:23.730291Z",
     "start_time": "2018-11-06T13:51:21.642083Z"
    }
   },
   "outputs": [],
   "source": [
    "import dlib\n",
    "import cv2\n",
    "import numpy as np"
   ]
  },
  {
   "cell_type": "code",
   "execution_count": 5,
   "metadata": {
    "ExecuteTime": {
     "end_time": "2018-11-06T13:51:20.834075Z",
     "start_time": "2018-11-06T13:51:20.822076Z"
    }
   },
   "outputs": [],
   "source": [
    "def convert_to_numpy_array(shape, dtype='int'):\n",
    "    cordinates = np.zeros((shape.num_parts,2),dtype=dtype)\n",
    "    for i in range(shape.num_parts):\n",
    "        cordinates[i] = (shape.part(i).x,shape.part(i).y)\n",
    "    return cordinates"
   ]
  },
  {
   "cell_type": "code",
   "execution_count": 4,
   "metadata": {
    "ExecuteTime": {
     "end_time": "2018-11-06T13:51:20.038084Z",
     "start_time": "2018-11-06T13:51:20.026120Z"
    }
   },
   "outputs": [],
   "source": [
    "def get_landmark_points(image,landmark_points):\n",
    "    face_detector = dlib.get_frontal_face_detector()\n",
    "    detected_face = face_detector(image,1)\n",
    "    for i,d in enumerate(detected_face):\n",
    "        shape = landmark_points(image,d)\n",
    "        points = convert_to_numpy_array(shape)\n",
    "        points_list = points.tolist()\n",
    "    return points_list\n",
    "    "
   ]
  },
  {
   "cell_type": "code",
   "execution_count": 3,
   "metadata": {
    "ExecuteTime": {
     "end_time": "2018-11-06T13:51:19.230085Z",
     "start_time": "2018-11-06T13:51:19.218084Z"
    }
   },
   "outputs": [],
   "source": [
    "def applyAffineTransform(src, srcTri, dstTri, size) :\n",
    "    \n",
    "    # Given a pair of triangles, find the affine transform.\n",
    "    warpMat = cv2.getAffineTransform( np.float32(srcTri), np.float32(dstTri) )\n",
    "    \n",
    "    # Apply the Affine Transform just found to the src image\n",
    "    dst = cv2.warpAffine( src, warpMat, (size[0], size[1]), None, flags=cv2.INTER_LINEAR, borderMode=cv2.BORDER_REFLECT_101 )\n",
    "\n",
    "    return dst"
   ]
  },
  {
   "cell_type": "code",
   "execution_count": 2,
   "metadata": {
    "ExecuteTime": {
     "end_time": "2018-11-06T13:51:18.502083Z",
     "start_time": "2018-11-06T13:51:18.466084Z"
    }
   },
   "outputs": [],
   "source": [
    "def morphTriangle(img1, img2, img, t1, t2, t, alpha) :\n",
    "\n",
    "    # Find bounding rectangle for each triangle\n",
    "    r1 = cv2.boundingRect(np.float32([t1]))\n",
    "    r2 = cv2.boundingRect(np.float32([t2]))\n",
    "    r = cv2.boundingRect(np.float32([t]))\n",
    "\n",
    "\n",
    "    # Offset points by left top corner of the respective rectangles\n",
    "    t1Rect = []\n",
    "    t2Rect = []\n",
    "    tRect = []\n",
    "\n",
    "\n",
    "    for i in range(0, 3):\n",
    "        tRect.append(((t[i][0] - r[0]),(t[i][1] - r[1])))\n",
    "        t1Rect.append(((t1[i][0] - r1[0]),(t1[i][1] - r1[1])))\n",
    "        t2Rect.append(((t2[i][0] - r2[0]),(t2[i][1] - r2[1])))\n",
    "\n",
    "\n",
    "    # Get mask by filling triangle\n",
    "    mask = np.zeros((r[3], r[2], 3), dtype = np.float32)\n",
    "    cv2.fillConvexPoly(mask, np.int32(tRect), (1.0, 1.0, 1.0), 16, 0);\n",
    "\n",
    "    # Apply warpImage to small rectangular patches\n",
    "    img1Rect = img1[r1[1]:r1[1] + r1[3], r1[0]:r1[0] + r1[2]]\n",
    "    img2Rect = img2[r2[1]:r2[1] + r2[3], r2[0]:r2[0] + r2[2]]\n",
    "\n",
    "    size = (r[2], r[3])\n",
    "    warpImage1 = applyAffineTransform(img1Rect, t1Rect, tRect, size)\n",
    "    warpImage2 = applyAffineTransform(img2Rect, t2Rect, tRect, size)\n",
    "\n",
    "    # Alpha blend rectangular patches\n",
    "    imgRect = (1.0 - alpha) * warpImage1 + alpha * warpImage2\n",
    "\n",
    "    # Copy triangular region of the rectangular patch to the output image\n",
    "    img[r[1]:r[1]+r[3], r[0]:r[0]+r[2]] = img[r[1]:r[1]+r[3], r[0]:r[0]+r[2]] * ( 1 - mask ) + imgRect * mask"
   ]
  },
  {
   "cell_type": "code",
   "execution_count": 12,
   "metadata": {
    "ExecuteTime": {
     "end_time": "2018-11-06T13:55:32.046441Z",
     "start_time": "2018-11-06T13:53:49.618088Z"
    }
   },
   "outputs": [],
   "source": [
    "\n",
    "alpha = 0.4\n",
    "\n",
    "# Base image for morphing\n",
    "base_image = cv2.imread(\"files/brunomars.jpg\")\n",
    "\n",
    "# Image to be overlayed\n",
    "overlay_image = cv2.imread(\"files/dakotajohnson.jpg\")\n",
    "\n",
    "# Base image 68 landmark points\n",
    "base_landmark_points = \"files/brunomarspoints.txt\"\n",
    "\n",
    "# Overlay image 68 landmark points\n",
    "overlay_landmark_points = \"files/dakotajohnsonpoints.txt\"\n",
    "\n",
    "# Base image delaunay points\n",
    "base_delaunay_points = \"files/brunotxtp1p2p3.txt\"\n",
    "\n",
    "frontal_face_detector = dlib.get_frontal_face_detector()\n",
    "\n",
    "landmark_points_detector = dlib.shape_predictor('shape_predictor_68_face_landmarks.dat')\n",
    "\n",
    "base_image_points = get_landmark_points(base_image,landmark_points_detector)\n",
    "\n",
    "overlay_image_points = get_landmark_points(overlay_image,landmark_points_detector)\n",
    "\n",
    "points = []\n",
    "\n",
    "img1 = np.float32(base_image)\n",
    "img2 = np.float32(overlay_image)\n",
    "\n",
    "# Calculate the average \n",
    "for i in range(len(base_image_points)):\n",
    "    x = ( 1 - alpha ) * base_image_points[i][0] + alpha * overlay_image_points[i][0]\n",
    "    y = ( 1 - alpha ) * base_image_points[i][1] + alpha * overlay_image_points[i][1]\n",
    "    points.append((x,y))\n",
    "    \n",
    "imgMorph = np.zeros(img1.shape,img1.dtype)\n",
    "\n",
    "with open(base_delaunay_points) as file:\n",
    "    for line in file:\n",
    "        x,y,z = line.split()\n",
    "        x,y,z = int(x), int(y), int(z)\n",
    "        t1 = [base_image_points[x], base_image_points[y], base_image_points[z]]\n",
    "        t2 = [overlay_image_points[x], overlay_image_points[y], overlay_image_points[z]]\n",
    "        t = [ points[x], points[y], points[z] ]\n",
    "        \n",
    "        morphTriangle(img1, img2, imgMorph, t1, t2, t, alpha)\n",
    "        cv2.imshow(\"Animate Delaunay\",np.uint8(imgMorph))\n",
    "        cv2.waitKey(100)\n",
    "\n",
    "cv2.imshow(\"Morphed Face\", np.uint8(imgMorph))\n",
    "cv2.waitKey()\n",
    "cv2.destroyAllWindows()\n"
   ]
  }
 ],
 "metadata": {
  "kernelspec": {
   "display_name": "Python 3",
   "language": "python",
   "name": "python3"
  },
  "language_info": {
   "codemirror_mode": {
    "name": "ipython",
    "version": 3
   },
   "file_extension": ".py",
   "mimetype": "text/x-python",
   "name": "python",
   "nbconvert_exporter": "python",
   "pygments_lexer": "ipython3",
   "version": "3.6.7"
  },
  "varInspector": {
   "cols": {
    "lenName": 16,
    "lenType": 16,
    "lenVar": 40
   },
   "kernels_config": {
    "python": {
     "delete_cmd_postfix": "",
     "delete_cmd_prefix": "del ",
     "library": "var_list.py",
     "varRefreshCmd": "print(var_dic_list())"
    },
    "r": {
     "delete_cmd_postfix": ") ",
     "delete_cmd_prefix": "rm(",
     "library": "var_list.r",
     "varRefreshCmd": "cat(var_dic_list()) "
    }
   },
   "types_to_exclude": [
    "module",
    "function",
    "builtin_function_or_method",
    "instance",
    "_Feature"
   ],
   "window_display": false
  }
 },
 "nbformat": 4,
 "nbformat_minor": 2
}
