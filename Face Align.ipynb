{
 "cells": [
  {
   "cell_type": "code",
   "execution_count": 16,
   "metadata": {
    "ExecuteTime": {
     "end_time": "2018-11-04T06:36:24.933128Z",
     "start_time": "2018-11-04T06:36:24.925193Z"
    }
   },
   "outputs": [],
   "source": [
    "import dlib\n",
    "import cv2\n",
    "import imutils\n",
    "from imutils.face_utils import FaceAligner\n",
    "from imutils.face_utils import rect_to_bb\n",
    "import numpy as np"
   ]
  },
  {
   "cell_type": "code",
   "execution_count": 15,
   "metadata": {
    "ExecuteTime": {
     "end_time": "2018-11-04T06:36:23.989956Z",
     "start_time": "2018-11-04T06:36:23.977981Z"
    }
   },
   "outputs": [],
   "source": [
    "def convert_to_numpy_array(shape, dtype='int'):\n",
    "    cordinates = np.zeros((shape.num_parts,2),dtype=dtype)\n",
    "    for i in range(shape.num_parts):\n",
    "        cordinates[i] = (shape.part(i).x,shape.part(i).y)\n",
    "    return cordinates"
   ]
  },
  {
   "cell_type": "code",
   "execution_count": 14,
   "metadata": {
    "ExecuteTime": {
     "end_time": "2018-11-04T06:36:23.310721Z",
     "start_time": "2018-11-04T06:36:23.294759Z"
    },
    "code_folding": []
   },
   "outputs": [],
   "source": [
    "def align_face(face_img_orig,frontal_detector,shape_predict,gray):\n",
    "    # Detect Face\n",
    "    detected_face = frontal_detector(face_img_orig,1)\n",
    "\n",
    "    # Initialize Face Alligner Object\n",
    "    fa = FaceAligner(shape_predict,desiredFaceWidth=256)\n",
    "    \n",
    "    faceAligned = face_img_orig.copy()\n",
    "\n",
    "    # Loop through detected images\n",
    "    for i,d in enumerate(detected_face):\n",
    "        (x, y, w, h) = rect_to_bb(d)\n",
    "        faceOrig = imutils.resize(face_img_orig[y:y + h, x:x + w], width=256)\n",
    "        faceAligned = fa.align(face_img_orig, gray, d)\n",
    "    return faceAligned"
   ]
  },
  {
   "cell_type": "code",
   "execution_count": 50,
   "metadata": {
    "ExecuteTime": {
     "end_time": "2018-11-04T07:45:44.956665Z",
     "start_time": "2018-11-04T07:45:44.928737Z"
    }
   },
   "outputs": [],
   "source": [
    "def get_facial_landmark_points():\n",
    "    # Read Image\n",
    "    img = cv2.imread(\"8.jpg\")\n",
    "\n",
    "    #Resize Image\n",
    "    img = cv2.resize(img,(500,500))\n",
    "    \n",
    "    # Image to grayscale\n",
    "    gray = cv2.cvtColor(img,cv2.COLOR_RGB2GRAY)\n",
    "\n",
    "    # Initialize Frontal Face Detector\n",
    "    frontal_detector = dlib.get_frontal_face_detector()\n",
    "\n",
    "    # 68 Landmark Points Marker\n",
    "    shape_predict = dlib.shape_predictor('shape_predictor_68_face_landmarks.dat')\n",
    "\n",
    "    # Get aligned face\n",
    "    img_aligned = align_face(img,frontal_detector,shape_predict,gray)\n",
    "    \n",
    "    # Copy aligned face\n",
    "    img_aligned_cpy = img_aligned.copy()\n",
    "    \n",
    "    # Copy number 2\n",
    "    img_aligned_cpy2 = img_aligned.copy()\n",
    "    \n",
    "    cv2.imwrite(\"dakotajohnson.jpg\",img_aligned)\n",
    "    \n",
    "    # Points to list\n",
    "    points = []\n",
    "    \n",
    "    #Detect from aligned face\n",
    "    detected_face = frontal_detector(img_aligned,1)\n",
    "\n",
    "    for i,d in enumerate(detected_face):\n",
    "        x,y,w,h = rect_to_bb(d)\n",
    "        # Shape predictor \n",
    "        shape = shape_predict(img_aligned,d)\n",
    "        facial_cordinates = convert_to_numpy_array(shape)\n",
    "#       print(facial_cordinates)\n",
    "        img_croped = img_aligned[y:y + h, x:x + w]\n",
    "        cv2.rectangle(img_aligned,(d.left(),d.top()),(d.right(),d.bottom()),(0,0,255),2)\n",
    "        count = 1\n",
    "        for (x,y) in facial_cordinates:\n",
    "            cv2.circle(img_aligned,(x,y),2,(0,0,255),-1)\n",
    "            points.append((x,y))\n",
    "        \n",
    "        # Save the cordinates of the points into a text file\n",
    "        points_to_text(points)\n",
    "        \n",
    "        cv2.imshow(\"Original\", img)\n",
    "        cv2.imshow(\"Aligned\", img_aligned_cpy)\n",
    "        cv2.imshow(\"Facial Points Aligned\",img_aligned)\n",
    "        cv2.imshow(\"Cropped\",img_croped)\n",
    "        cv2.waitKey()\n",
    "        cv2.destroyAllWindows()\n"
   ]
  },
  {
   "cell_type": "code",
   "execution_count": 51,
   "metadata": {
    "ExecuteTime": {
     "end_time": "2018-11-04T07:45:45.946625Z",
     "start_time": "2018-11-04T07:45:45.938614Z"
    }
   },
   "outputs": [],
   "source": [
    "def points_to_text(points):\n",
    "    f = open(\"dakotajohnsonpoints.txt\",\"w+\")\n",
    "    for p in points:\n",
    "        f.write(\"%d %d\\n\"%(p[0],p[1]))"
   ]
  },
  {
   "cell_type": "code",
   "execution_count": 52,
   "metadata": {
    "ExecuteTime": {
     "end_time": "2018-11-04T07:46:01.213468Z",
     "start_time": "2018-11-04T07:45:46.636576Z"
    }
   },
   "outputs": [],
   "source": [
    "get_facial_landmark_points() "
   ]
  }
 ],
 "metadata": {
  "kernelspec": {
   "display_name": "Python 3",
   "language": "python",
   "name": "python3"
  },
  "language_info": {
   "codemirror_mode": {
    "name": "ipython",
    "version": 3
   },
   "file_extension": ".py",
   "mimetype": "text/x-python",
   "name": "python",
   "nbconvert_exporter": "python",
   "pygments_lexer": "ipython3",
   "version": "3.6.7"
  },
  "varInspector": {
   "cols": {
    "lenName": 16,
    "lenType": 16,
    "lenVar": 40
   },
   "kernels_config": {
    "python": {
     "delete_cmd_postfix": "",
     "delete_cmd_prefix": "del ",
     "library": "var_list.py",
     "varRefreshCmd": "print(var_dic_list())"
    },
    "r": {
     "delete_cmd_postfix": ") ",
     "delete_cmd_prefix": "rm(",
     "library": "var_list.r",
     "varRefreshCmd": "cat(var_dic_list()) "
    }
   },
   "types_to_exclude": [
    "module",
    "function",
    "builtin_function_or_method",
    "instance",
    "_Feature"
   ],
   "window_display": false
  }
 },
 "nbformat": 4,
 "nbformat_minor": 2
}
