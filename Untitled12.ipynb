{
 "cells": [
  {
   "cell_type": "code",
   "execution_count": null,
   "metadata": {},
   "outputs": [],
   "source": []
  },
  {
   "cell_type": "code",
   "execution_count": 4,
   "metadata": {
    "ExecuteTime": {
     "end_time": "2018-11-04T07:47:42.425656Z",
     "start_time": "2018-11-04T07:47:42.382725Z"
    }
   },
   "outputs": [],
   "source": [
    "import cv2\n",
    "import numpy as np\n",
    "import random\n",
    " \n",
    "# Check if a point is inside a rectangle\n",
    "def rect_contains(rect, point) :\n",
    "    if point[0] < rect[0] :\n",
    "        return False\n",
    "    elif point[1] < rect[1] :\n",
    "        return False\n",
    "    elif point[0] > rect[2] :\n",
    "        return False\n",
    "    elif point[1] > rect[3] :\n",
    "        return False\n",
    "    return True\n",
    " \n",
    "# Draw a point\n",
    "def draw_point(img, p, color ) :\n",
    "    cv2.circle( img, p, 2, color, -1, cv2.LINE_AA, 0 )\n",
    " \n",
    " \n",
    "# Draw delaunay triangles\n",
    "def draw_delaunay(img, subdiv, delaunay_color ) :\n",
    "    \n",
    "    triangleList = subdiv.getTriangleList();\n",
    "    triangleList=triangleList[:80]\n",
    "#     print(triangleList)\n",
    "    edl = subdiv.getEdgeList()\n",
    "    \n",
    "    size = img.shape\n",
    "    r = (0, 0, size[1], size[0])\n",
    " \n",
    "    for t in triangleList :\n",
    "        \n",
    "        pt1 = (t[0], t[1])\n",
    "        \n",
    "        pt2 = (t[2], t[3])\n",
    "        pt3 = (t[4], t[5])\n",
    "        \n",
    "        \n",
    "        \n",
    "         \n",
    "        if rect_contains(r, pt1) and rect_contains(r, pt2) and rect_contains(r, pt3) :\n",
    "         \n",
    "            cv2.line(img, pt1, pt2, delaunay_color, 1, cv2.LINE_AA, 0)\n",
    "            cv2.line(img, pt2, pt3, delaunay_color, 1, cv2.LINE_AA, 0)\n",
    "            cv2.line(img, pt3, pt1, delaunay_color, 1, cv2.LINE_AA, 0)\n",
    "            \n",
    " \n",
    "# Draw voronoi diagram\n",
    "def draw_voronoi(img, subdiv) :\n",
    " \n",
    "    (facets, centers) = subdiv.getVoronoiFacetList([])\n",
    "   \n",
    " \n",
    "    for i in range(0,len(facets)) :\n",
    "        ifacet_arr = []\n",
    "        for f in facets[i] :\n",
    "            ifacet_arr.append(f)\n",
    "         \n",
    "        ifacet = np.array(ifacet_arr, np.int)\n",
    "        color = (random.randint(0, 255), random.randint(0, 255), random.randint(0, 255))\n",
    " \n",
    "        cv2.fillConvexPoly(img, ifacet, color, cv2.LINE_AA, 0);\n",
    "        ifacets = np.array([ifacet])\n",
    "        cv2.polylines(img, ifacets, True, (0, 0, 0), 1, cv2.LINE_AA, 0)\n",
    "        cv2.circle(img, (centers[i][0], centers[i][1]), 3, (0, 0, 0), -1, cv2.LINE_AA, 0)\n",
    " \n",
    " \n"
   ]
  },
  {
   "cell_type": "code",
   "execution_count": 5,
   "metadata": {
    "ExecuteTime": {
     "end_time": "2018-11-04T07:47:43.298180Z",
     "start_time": "2018-11-04T07:47:43.269294Z"
    }
   },
   "outputs": [],
   "source": [
    "def calculateDelaunayTriangles(img,subdiv, points):\n",
    "    # Create subdiv\n",
    "    \n",
    "\n",
    "    # Insert points into subdiv\n",
    "    for p in points:\n",
    "        subdiv.insert((p[0], p[1]))\n",
    "\n",
    "\n",
    "    # List of triangles. Each triangle is a list of 3 points ( 6 numbers )\n",
    "    triangleList = subdiv.getTriangleList()\n",
    "    triangleList=triangleList[:80]\n",
    "    # Find the indices of triangles in the points array\n",
    "\n",
    "    delaunayTri = []\n",
    "    size = img.shape\n",
    "    r = (0, 0, size[1], size[0])\n",
    "    for t in triangleList:\n",
    "        pt = []\n",
    "        pt.append((t[0], t[1]))\n",
    "        pt.append((t[2], t[3]))\n",
    "        pt.append((t[4], t[5]))\n",
    "\n",
    "        pt1 = (t[0], t[1])\n",
    "        pt2 = (t[2], t[3])\n",
    "        pt3 = (t[4], t[5])\n",
    "\n",
    "        if rect_contains(r, pt1) and rect_contains(r, pt2) and rect_contains(r, pt3):\n",
    "            ind = []\n",
    "            for j in range(0, 3):\n",
    "                for k in range(0, len(points)):\n",
    "                    if(abs(pt[j][0] - points[k][0]) < 1.0 and abs(pt[j][1] - points[k][1]) < 1.0):\n",
    "                        ind.append(k)\n",
    "            if len(ind) == 3:\n",
    "                delaunayTri.append((ind[0]+1, ind[1]+1, ind[2]+1))\n",
    "                \n",
    "        \n",
    "        \n",
    "\n",
    "    return delaunayTri "
   ]
  },
  {
   "cell_type": "code",
   "execution_count": 8,
   "metadata": {
    "ExecuteTime": {
     "end_time": "2018-11-04T07:48:05.432255Z",
     "start_time": "2018-11-04T07:48:05.406278Z"
    }
   },
   "outputs": [],
   "source": [
    "def run():\n",
    " \n",
    "    # Define window names\n",
    "    win_delaunay = \"Delaunay Triangulation\"\n",
    "    win_voronoi = \"Voronoi Diagram\"\n",
    " \n",
    "    # Turn on animation while drawing triangles\n",
    "    animate = True\n",
    "     \n",
    "    # Define colors for drawing.\n",
    "    delaunay_color = (255,255,255)\n",
    "    points_color = (0, 0, 255)\n",
    " \n",
    "    # Read in the image.\n",
    "    img = cv2.imread('dakotajohnson.jpg');\n",
    "     \n",
    "    # Keep a copy around\n",
    "    img_orig = img.copy();\n",
    "     \n",
    "    # Rectangle to be used with Subdiv2D\n",
    "    size = img.shape\n",
    "    rect = (0, 0, size[1], size[0])\n",
    "     \n",
    "    # Create an instance of Subdiv2D\n",
    "    subdiv = cv2.Subdiv2D(rect);\n",
    " \n",
    "    # Create an array of points.\n",
    "    points = [];\n",
    "     \n",
    "    # Read in the points from a text file\n",
    "    with open(\"dakotajohnsonpoints.txt\") as file :\n",
    "        for line in file :\n",
    "            x, y = line.split()\n",
    "            points.append((int(x), int(y)))\n",
    " \n",
    "    # Insert points into subdiv\n",
    "    for p in points :\n",
    "        subdiv.insert(p)\n",
    "         \n",
    "        # Show animation\n",
    "#         if animate :\n",
    "#             img_copy = img_orig.copy()\n",
    "#             # Draw delaunay triangles\n",
    "#             draw_delaunay( img_copy, subdiv, (255, 255, 255) );\n",
    "#             cv2.imshow(win_delaunay, img_copy)\n",
    "#             cv2.waitKey(100)\n",
    " \n",
    "    # Draw delaunay triangles\n",
    "    draw_delaunay( img, subdiv, (255, 255, 255) );\n",
    "    a=calculateDelaunayTriangles(img,subdiv, points)\n",
    "    print(a)\n",
    "    \n",
    "    with open('dakotatxtp1p2p3.txt', 'w') as f:\n",
    "        for i in range(0,len(a)):\n",
    "            f.write(\"%s %s %s\\n\" % (a[i]))\n",
    "    # Draw points\n",
    "    for p in points:\n",
    "        draw_point(img, p, (0,0,255))\n",
    " \n",
    "    # Allocate space for Voronoi Diagram\n",
    "    img_voronoi = np.zeros(img.shape, dtype = img.dtype)\n",
    " \n",
    "    # Draw Voronoi diagram\n",
    "    draw_voronoi(img_voronoi,subdiv)\n",
    " \n",
    "    # Show results\n",
    "    cv2.imshow(win_delaunay,img)\n",
    "    cv2.imshow(win_voronoi,img_voronoi)\n",
    "    cv2.waitKey()\n",
    "    cv2.destroyAllWindows()"
   ]
  },
  {
   "cell_type": "code",
   "execution_count": 7,
   "metadata": {
    "ExecuteTime": {
     "end_time": "2018-11-04T07:47:52.833094Z",
     "start_time": "2018-11-04T07:47:45.111466Z"
    }
   },
   "outputs": [
    {
     "name": "stdout",
     "output_type": "stream",
     "text": [
      "[(37, 1, 18), (1, 37, 2), (49, 42, 32), (42, 49, 3), (40, 32, 41), (32, 40, 30), (4, 2, 3), (3, 2, 42), (3, 49, 4), (32, 30, 31), (5, 4, 49), (54, 36, 55), (36, 54, 53), (6, 5, 49), (20, 38, 19), (38, 20, 39), (7, 6, 49), (41, 39, 40), (39, 41, 38), (8, 7, 60), (47, 55, 36), (55, 47, 15), (9, 8, 59), (10, 9, 57), (11, 10, 56), (36, 31, 30), (31, 36, 35), (12, 11, 55), (36, 30, 43), (13, 12, 55), (22, 40, 39), (40, 22, 28), (14, 13, 55), (19, 38, 37), (15, 14, 55), (38, 41, 42), (16, 15, 47), (2, 37, 42), (17, 16, 46), (18, 19, 37), (24, 21, 20), (21, 24, 22), (22, 24, 23), (20, 21, 39), (24, 20, 25), (43, 30, 29), (21, 22, 39), (23, 44, 43), (44, 23, 24), (28, 43, 29), (43, 28, 23), (22, 23, 28), (44, 25, 45), (25, 44, 24), (27, 46, 26)]\n"
     ]
    }
   ],
   "source": [
    "run()"
   ]
  },
  {
   "cell_type": "code",
   "execution_count": null,
   "metadata": {},
   "outputs": [],
   "source": []
  },
  {
   "cell_type": "code",
   "execution_count": null,
   "metadata": {},
   "outputs": [],
   "source": []
  }
 ],
 "metadata": {
  "kernelspec": {
   "display_name": "Python 3",
   "language": "python",
   "name": "python3"
  },
  "language_info": {
   "codemirror_mode": {
    "name": "ipython",
    "version": 3
   },
   "file_extension": ".py",
   "mimetype": "text/x-python",
   "name": "python",
   "nbconvert_exporter": "python",
   "pygments_lexer": "ipython3",
   "version": "3.6.7"
  },
  "varInspector": {
   "cols": {
    "lenName": 16,
    "lenType": 16,
    "lenVar": 40
   },
   "kernels_config": {
    "python": {
     "delete_cmd_postfix": "",
     "delete_cmd_prefix": "del ",
     "library": "var_list.py",
     "varRefreshCmd": "print(var_dic_list())"
    },
    "r": {
     "delete_cmd_postfix": ") ",
     "delete_cmd_prefix": "rm(",
     "library": "var_list.r",
     "varRefreshCmd": "cat(var_dic_list()) "
    }
   },
   "types_to_exclude": [
    "module",
    "function",
    "builtin_function_or_method",
    "instance",
    "_Feature"
   ],
   "window_display": false
  }
 },
 "nbformat": 4,
 "nbformat_minor": 2
}
